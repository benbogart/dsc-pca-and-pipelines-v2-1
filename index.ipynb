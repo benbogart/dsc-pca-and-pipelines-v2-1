{
 "cells": [
  {
   "cell_type": "markdown",
   "metadata": {},
   "source": [
    "# Integrating PCA in Pipelines - Lab"
   ]
  },
  {
   "cell_type": "markdown",
   "metadata": {},
   "source": [
    "## Introduction"
   ]
  },
  {
   "cell_type": "markdown",
   "metadata": {},
   "source": [
    "In a previous section, you learned about how to use pipelines in scikit-learn to combine several supervised learning algorithms in a manageable pipeline. In this lesson, you will integrate PCA along with classifiers in the pipeline. "
   ]
  },
  {
   "cell_type": "markdown",
   "metadata": {},
   "source": [
    "## Objectives\n",
    "\n",
    "In this lab you will: \n",
    "\n",
    "- Integrate PCA in scikit-learn pipelines "
   ]
  },
  {
   "cell_type": "markdown",
   "metadata": {},
   "source": [
    "## The Data Science Workflow"
   ]
  },
  {
   "cell_type": "markdown",
   "metadata": {},
   "source": [
    "You will be following the data science workflow:\n",
    "\n",
    "1. Initial data inspection, exploratory data analysis, and cleaning\n",
    "2. Feature engineering and selection\n",
    "3. Create a baseline model\n",
    "4. Create a machine learning pipeline and compare results with the baseline model\n",
    "5. Interpret the model and draw conclusions"
   ]
  },
  {
   "cell_type": "markdown",
   "metadata": {},
   "source": [
    "##  Initial data inspection, exploratory data analysis, and cleaning"
   ]
  },
  {
   "cell_type": "markdown",
   "metadata": {},
   "source": [
    "You'll use a dataset created by the Otto group, which was also used in a [Kaggle competition](https://www.kaggle.com/c/otto-group-product-classification-challenge/data). The description of the dataset is as follows:\n",
    "\n",
    "The Otto Group is one of the world’s biggest e-commerce companies, with subsidiaries in more than 20 countries, including Crate & Barrel (USA), Otto.de (Germany) and 3 Suisses (France). They are selling millions of products worldwide every day, with several thousand products being added to their product line.\n",
    "\n",
    "A consistent analysis of the performance of their products is crucial. However, due to their global infrastructure, many identical products get classified differently. Therefore, the quality of product analysis depends heavily on the ability to accurately cluster similar products. The better the classification, the more insights the Otto Group can generate about their product range.\n",
    "\n",
    "In this lab, you'll use a dataset containing:\n",
    "- A column `id`, which is an anonymous id unique to a product\n",
    "- 93 columns `feat_1`, `feat_2`, ..., `feat_93`, which are the various features of a product\n",
    "- a column `target` - the class of a product\n",
    "\n",
    "\n",
    "\n",
    "The dataset is stored in the `'otto_group.csv'` file. Import this file into a DataFrame called `data`, and then: \n",
    "\n",
    "- Check for missing values \n",
    "- Check the distribution of columns \n",
    "- ... and any other things that come to your mind to explore the data "
   ]
  },
  {
   "cell_type": "code",
   "execution_count": 8,
   "metadata": {},
   "outputs": [],
   "source": [
    "# Your code here\n",
    "import pandas as pd\n",
    "data = pd.read_csv('otto_group.csv', index_col=0)"
   ]
  },
  {
   "cell_type": "code",
   "execution_count": 9,
   "metadata": {},
   "outputs": [
    {
     "data": {
      "text/plain": [
       "0"
      ]
     },
     "execution_count": 9,
     "metadata": {},
     "output_type": "execute_result"
    }
   ],
   "source": [
    "# Your code here\n",
    "data.isna().sum().sum()"
   ]
  },
  {
   "cell_type": "code",
   "execution_count": 10,
   "metadata": {},
   "outputs": [
    {
     "name": "stdout",
     "output_type": "stream",
     "text": [
      "<class 'pandas.core.frame.DataFrame'>\n",
      "Int64Index: 61878 entries, 1 to 61878\n",
      "Data columns (total 94 columns):\n",
      " #   Column   Non-Null Count  Dtype \n",
      "---  ------   --------------  ----- \n",
      " 0   feat_1   61878 non-null  int64 \n",
      " 1   feat_2   61878 non-null  int64 \n",
      " 2   feat_3   61878 non-null  int64 \n",
      " 3   feat_4   61878 non-null  int64 \n",
      " 4   feat_5   61878 non-null  int64 \n",
      " 5   feat_6   61878 non-null  int64 \n",
      " 6   feat_7   61878 non-null  int64 \n",
      " 7   feat_8   61878 non-null  int64 \n",
      " 8   feat_9   61878 non-null  int64 \n",
      " 9   feat_10  61878 non-null  int64 \n",
      " 10  feat_11  61878 non-null  int64 \n",
      " 11  feat_12  61878 non-null  int64 \n",
      " 12  feat_13  61878 non-null  int64 \n",
      " 13  feat_14  61878 non-null  int64 \n",
      " 14  feat_15  61878 non-null  int64 \n",
      " 15  feat_16  61878 non-null  int64 \n",
      " 16  feat_17  61878 non-null  int64 \n",
      " 17  feat_18  61878 non-null  int64 \n",
      " 18  feat_19  61878 non-null  int64 \n",
      " 19  feat_20  61878 non-null  int64 \n",
      " 20  feat_21  61878 non-null  int64 \n",
      " 21  feat_22  61878 non-null  int64 \n",
      " 22  feat_23  61878 non-null  int64 \n",
      " 23  feat_24  61878 non-null  int64 \n",
      " 24  feat_25  61878 non-null  int64 \n",
      " 25  feat_26  61878 non-null  int64 \n",
      " 26  feat_27  61878 non-null  int64 \n",
      " 27  feat_28  61878 non-null  int64 \n",
      " 28  feat_29  61878 non-null  int64 \n",
      " 29  feat_30  61878 non-null  int64 \n",
      " 30  feat_31  61878 non-null  int64 \n",
      " 31  feat_32  61878 non-null  int64 \n",
      " 32  feat_33  61878 non-null  int64 \n",
      " 33  feat_34  61878 non-null  int64 \n",
      " 34  feat_35  61878 non-null  int64 \n",
      " 35  feat_36  61878 non-null  int64 \n",
      " 36  feat_37  61878 non-null  int64 \n",
      " 37  feat_38  61878 non-null  int64 \n",
      " 38  feat_39  61878 non-null  int64 \n",
      " 39  feat_40  61878 non-null  int64 \n",
      " 40  feat_41  61878 non-null  int64 \n",
      " 41  feat_42  61878 non-null  int64 \n",
      " 42  feat_43  61878 non-null  int64 \n",
      " 43  feat_44  61878 non-null  int64 \n",
      " 44  feat_45  61878 non-null  int64 \n",
      " 45  feat_46  61878 non-null  int64 \n",
      " 46  feat_47  61878 non-null  int64 \n",
      " 47  feat_48  61878 non-null  int64 \n",
      " 48  feat_49  61878 non-null  int64 \n",
      " 49  feat_50  61878 non-null  int64 \n",
      " 50  feat_51  61878 non-null  int64 \n",
      " 51  feat_52  61878 non-null  int64 \n",
      " 52  feat_53  61878 non-null  int64 \n",
      " 53  feat_54  61878 non-null  int64 \n",
      " 54  feat_55  61878 non-null  int64 \n",
      " 55  feat_56  61878 non-null  int64 \n",
      " 56  feat_57  61878 non-null  int64 \n",
      " 57  feat_58  61878 non-null  int64 \n",
      " 58  feat_59  61878 non-null  int64 \n",
      " 59  feat_60  61878 non-null  int64 \n",
      " 60  feat_61  61878 non-null  int64 \n",
      " 61  feat_62  61878 non-null  int64 \n",
      " 62  feat_63  61878 non-null  int64 \n",
      " 63  feat_64  61878 non-null  int64 \n",
      " 64  feat_65  61878 non-null  int64 \n",
      " 65  feat_66  61878 non-null  int64 \n",
      " 66  feat_67  61878 non-null  int64 \n",
      " 67  feat_68  61878 non-null  int64 \n",
      " 68  feat_69  61878 non-null  int64 \n",
      " 69  feat_70  61878 non-null  int64 \n",
      " 70  feat_71  61878 non-null  int64 \n",
      " 71  feat_72  61878 non-null  int64 \n",
      " 72  feat_73  61878 non-null  int64 \n",
      " 73  feat_74  61878 non-null  int64 \n",
      " 74  feat_75  61878 non-null  int64 \n",
      " 75  feat_76  61878 non-null  int64 \n",
      " 76  feat_77  61878 non-null  int64 \n",
      " 77  feat_78  61878 non-null  int64 \n",
      " 78  feat_79  61878 non-null  int64 \n",
      " 79  feat_80  61878 non-null  int64 \n",
      " 80  feat_81  61878 non-null  int64 \n",
      " 81  feat_82  61878 non-null  int64 \n",
      " 82  feat_83  61878 non-null  int64 \n",
      " 83  feat_84  61878 non-null  int64 \n",
      " 84  feat_85  61878 non-null  int64 \n",
      " 85  feat_86  61878 non-null  int64 \n",
      " 86  feat_87  61878 non-null  int64 \n",
      " 87  feat_88  61878 non-null  int64 \n",
      " 88  feat_89  61878 non-null  int64 \n",
      " 89  feat_90  61878 non-null  int64 \n",
      " 90  feat_91  61878 non-null  int64 \n",
      " 91  feat_92  61878 non-null  int64 \n",
      " 92  feat_93  61878 non-null  int64 \n",
      " 93  target   61878 non-null  object\n",
      "dtypes: int64(93), object(1)\n",
      "memory usage: 44.8+ MB\n"
     ]
    }
   ],
   "source": [
    "# Your code here\n",
    "data.info()"
   ]
  },
  {
   "cell_type": "code",
   "execution_count": 12,
   "metadata": {},
   "outputs": [
    {
     "data": {
      "text/plain": [
       "115"
      ]
     },
     "execution_count": 12,
     "metadata": {},
     "output_type": "execute_result"
    }
   ],
   "source": [
    "# Your code here\n",
    "data.nunique().max()"
   ]
  },
  {
   "cell_type": "code",
   "execution_count": 13,
   "metadata": {},
   "outputs": [
    {
     "data": {
      "text/html": [
       "<div>\n",
       "<style scoped>\n",
       "    .dataframe tbody tr th:only-of-type {\n",
       "        vertical-align: middle;\n",
       "    }\n",
       "\n",
       "    .dataframe tbody tr th {\n",
       "        vertical-align: top;\n",
       "    }\n",
       "\n",
       "    .dataframe thead th {\n",
       "        text-align: right;\n",
       "    }\n",
       "</style>\n",
       "<table border=\"1\" class=\"dataframe\">\n",
       "  <thead>\n",
       "    <tr style=\"text-align: right;\">\n",
       "      <th></th>\n",
       "      <th>feat_1</th>\n",
       "      <th>feat_2</th>\n",
       "      <th>feat_3</th>\n",
       "      <th>feat_4</th>\n",
       "      <th>feat_5</th>\n",
       "      <th>feat_6</th>\n",
       "      <th>feat_7</th>\n",
       "      <th>feat_8</th>\n",
       "      <th>feat_9</th>\n",
       "      <th>feat_10</th>\n",
       "      <th>...</th>\n",
       "      <th>feat_84</th>\n",
       "      <th>feat_85</th>\n",
       "      <th>feat_86</th>\n",
       "      <th>feat_87</th>\n",
       "      <th>feat_88</th>\n",
       "      <th>feat_89</th>\n",
       "      <th>feat_90</th>\n",
       "      <th>feat_91</th>\n",
       "      <th>feat_92</th>\n",
       "      <th>feat_93</th>\n",
       "    </tr>\n",
       "  </thead>\n",
       "  <tbody>\n",
       "    <tr>\n",
       "      <th>count</th>\n",
       "      <td>61878.00000</td>\n",
       "      <td>61878.000000</td>\n",
       "      <td>61878.000000</td>\n",
       "      <td>61878.000000</td>\n",
       "      <td>61878.000000</td>\n",
       "      <td>61878.000000</td>\n",
       "      <td>61878.000000</td>\n",
       "      <td>61878.000000</td>\n",
       "      <td>61878.000000</td>\n",
       "      <td>61878.000000</td>\n",
       "      <td>...</td>\n",
       "      <td>61878.000000</td>\n",
       "      <td>61878.000000</td>\n",
       "      <td>61878.000000</td>\n",
       "      <td>61878.000000</td>\n",
       "      <td>61878.000000</td>\n",
       "      <td>61878.000000</td>\n",
       "      <td>61878.000000</td>\n",
       "      <td>61878.000000</td>\n",
       "      <td>61878.000000</td>\n",
       "      <td>61878.000000</td>\n",
       "    </tr>\n",
       "    <tr>\n",
       "      <th>mean</th>\n",
       "      <td>0.38668</td>\n",
       "      <td>0.263066</td>\n",
       "      <td>0.901467</td>\n",
       "      <td>0.779081</td>\n",
       "      <td>0.071043</td>\n",
       "      <td>0.025696</td>\n",
       "      <td>0.193704</td>\n",
       "      <td>0.662433</td>\n",
       "      <td>1.011296</td>\n",
       "      <td>0.263906</td>\n",
       "      <td>...</td>\n",
       "      <td>0.070752</td>\n",
       "      <td>0.532306</td>\n",
       "      <td>1.128576</td>\n",
       "      <td>0.393549</td>\n",
       "      <td>0.874915</td>\n",
       "      <td>0.457772</td>\n",
       "      <td>0.812421</td>\n",
       "      <td>0.264941</td>\n",
       "      <td>0.380119</td>\n",
       "      <td>0.126135</td>\n",
       "    </tr>\n",
       "    <tr>\n",
       "      <th>std</th>\n",
       "      <td>1.52533</td>\n",
       "      <td>1.252073</td>\n",
       "      <td>2.934818</td>\n",
       "      <td>2.788005</td>\n",
       "      <td>0.438902</td>\n",
       "      <td>0.215333</td>\n",
       "      <td>1.030102</td>\n",
       "      <td>2.255770</td>\n",
       "      <td>3.474822</td>\n",
       "      <td>1.083340</td>\n",
       "      <td>...</td>\n",
       "      <td>1.151460</td>\n",
       "      <td>1.900438</td>\n",
       "      <td>2.681554</td>\n",
       "      <td>1.575455</td>\n",
       "      <td>2.115466</td>\n",
       "      <td>1.527385</td>\n",
       "      <td>4.597804</td>\n",
       "      <td>2.045646</td>\n",
       "      <td>0.982385</td>\n",
       "      <td>1.201720</td>\n",
       "    </tr>\n",
       "    <tr>\n",
       "      <th>min</th>\n",
       "      <td>0.00000</td>\n",
       "      <td>0.000000</td>\n",
       "      <td>0.000000</td>\n",
       "      <td>0.000000</td>\n",
       "      <td>0.000000</td>\n",
       "      <td>0.000000</td>\n",
       "      <td>0.000000</td>\n",
       "      <td>0.000000</td>\n",
       "      <td>0.000000</td>\n",
       "      <td>0.000000</td>\n",
       "      <td>...</td>\n",
       "      <td>0.000000</td>\n",
       "      <td>0.000000</td>\n",
       "      <td>0.000000</td>\n",
       "      <td>0.000000</td>\n",
       "      <td>0.000000</td>\n",
       "      <td>0.000000</td>\n",
       "      <td>0.000000</td>\n",
       "      <td>0.000000</td>\n",
       "      <td>0.000000</td>\n",
       "      <td>0.000000</td>\n",
       "    </tr>\n",
       "    <tr>\n",
       "      <th>25%</th>\n",
       "      <td>0.00000</td>\n",
       "      <td>0.000000</td>\n",
       "      <td>0.000000</td>\n",
       "      <td>0.000000</td>\n",
       "      <td>0.000000</td>\n",
       "      <td>0.000000</td>\n",
       "      <td>0.000000</td>\n",
       "      <td>0.000000</td>\n",
       "      <td>0.000000</td>\n",
       "      <td>0.000000</td>\n",
       "      <td>...</td>\n",
       "      <td>0.000000</td>\n",
       "      <td>0.000000</td>\n",
       "      <td>0.000000</td>\n",
       "      <td>0.000000</td>\n",
       "      <td>0.000000</td>\n",
       "      <td>0.000000</td>\n",
       "      <td>0.000000</td>\n",
       "      <td>0.000000</td>\n",
       "      <td>0.000000</td>\n",
       "      <td>0.000000</td>\n",
       "    </tr>\n",
       "    <tr>\n",
       "      <th>50%</th>\n",
       "      <td>0.00000</td>\n",
       "      <td>0.000000</td>\n",
       "      <td>0.000000</td>\n",
       "      <td>0.000000</td>\n",
       "      <td>0.000000</td>\n",
       "      <td>0.000000</td>\n",
       "      <td>0.000000</td>\n",
       "      <td>0.000000</td>\n",
       "      <td>0.000000</td>\n",
       "      <td>0.000000</td>\n",
       "      <td>...</td>\n",
       "      <td>0.000000</td>\n",
       "      <td>0.000000</td>\n",
       "      <td>0.000000</td>\n",
       "      <td>0.000000</td>\n",
       "      <td>0.000000</td>\n",
       "      <td>0.000000</td>\n",
       "      <td>0.000000</td>\n",
       "      <td>0.000000</td>\n",
       "      <td>0.000000</td>\n",
       "      <td>0.000000</td>\n",
       "    </tr>\n",
       "    <tr>\n",
       "      <th>75%</th>\n",
       "      <td>0.00000</td>\n",
       "      <td>0.000000</td>\n",
       "      <td>0.000000</td>\n",
       "      <td>0.000000</td>\n",
       "      <td>0.000000</td>\n",
       "      <td>0.000000</td>\n",
       "      <td>0.000000</td>\n",
       "      <td>1.000000</td>\n",
       "      <td>0.000000</td>\n",
       "      <td>0.000000</td>\n",
       "      <td>...</td>\n",
       "      <td>0.000000</td>\n",
       "      <td>0.000000</td>\n",
       "      <td>1.000000</td>\n",
       "      <td>0.000000</td>\n",
       "      <td>1.000000</td>\n",
       "      <td>0.000000</td>\n",
       "      <td>0.000000</td>\n",
       "      <td>0.000000</td>\n",
       "      <td>0.000000</td>\n",
       "      <td>0.000000</td>\n",
       "    </tr>\n",
       "    <tr>\n",
       "      <th>max</th>\n",
       "      <td>61.00000</td>\n",
       "      <td>51.000000</td>\n",
       "      <td>64.000000</td>\n",
       "      <td>70.000000</td>\n",
       "      <td>19.000000</td>\n",
       "      <td>10.000000</td>\n",
       "      <td>38.000000</td>\n",
       "      <td>76.000000</td>\n",
       "      <td>43.000000</td>\n",
       "      <td>30.000000</td>\n",
       "      <td>...</td>\n",
       "      <td>76.000000</td>\n",
       "      <td>55.000000</td>\n",
       "      <td>65.000000</td>\n",
       "      <td>67.000000</td>\n",
       "      <td>30.000000</td>\n",
       "      <td>61.000000</td>\n",
       "      <td>130.000000</td>\n",
       "      <td>52.000000</td>\n",
       "      <td>19.000000</td>\n",
       "      <td>87.000000</td>\n",
       "    </tr>\n",
       "  </tbody>\n",
       "</table>\n",
       "<p>8 rows × 93 columns</p>\n",
       "</div>"
      ],
      "text/plain": [
       "            feat_1        feat_2        feat_3        feat_4        feat_5  \\\n",
       "count  61878.00000  61878.000000  61878.000000  61878.000000  61878.000000   \n",
       "mean       0.38668      0.263066      0.901467      0.779081      0.071043   \n",
       "std        1.52533      1.252073      2.934818      2.788005      0.438902   \n",
       "min        0.00000      0.000000      0.000000      0.000000      0.000000   \n",
       "25%        0.00000      0.000000      0.000000      0.000000      0.000000   \n",
       "50%        0.00000      0.000000      0.000000      0.000000      0.000000   \n",
       "75%        0.00000      0.000000      0.000000      0.000000      0.000000   \n",
       "max       61.00000     51.000000     64.000000     70.000000     19.000000   \n",
       "\n",
       "             feat_6        feat_7        feat_8        feat_9       feat_10  \\\n",
       "count  61878.000000  61878.000000  61878.000000  61878.000000  61878.000000   \n",
       "mean       0.025696      0.193704      0.662433      1.011296      0.263906   \n",
       "std        0.215333      1.030102      2.255770      3.474822      1.083340   \n",
       "min        0.000000      0.000000      0.000000      0.000000      0.000000   \n",
       "25%        0.000000      0.000000      0.000000      0.000000      0.000000   \n",
       "50%        0.000000      0.000000      0.000000      0.000000      0.000000   \n",
       "75%        0.000000      0.000000      1.000000      0.000000      0.000000   \n",
       "max       10.000000     38.000000     76.000000     43.000000     30.000000   \n",
       "\n",
       "       ...       feat_84       feat_85       feat_86       feat_87  \\\n",
       "count  ...  61878.000000  61878.000000  61878.000000  61878.000000   \n",
       "mean   ...      0.070752      0.532306      1.128576      0.393549   \n",
       "std    ...      1.151460      1.900438      2.681554      1.575455   \n",
       "min    ...      0.000000      0.000000      0.000000      0.000000   \n",
       "25%    ...      0.000000      0.000000      0.000000      0.000000   \n",
       "50%    ...      0.000000      0.000000      0.000000      0.000000   \n",
       "75%    ...      0.000000      0.000000      1.000000      0.000000   \n",
       "max    ...     76.000000     55.000000     65.000000     67.000000   \n",
       "\n",
       "            feat_88       feat_89       feat_90       feat_91       feat_92  \\\n",
       "count  61878.000000  61878.000000  61878.000000  61878.000000  61878.000000   \n",
       "mean       0.874915      0.457772      0.812421      0.264941      0.380119   \n",
       "std        2.115466      1.527385      4.597804      2.045646      0.982385   \n",
       "min        0.000000      0.000000      0.000000      0.000000      0.000000   \n",
       "25%        0.000000      0.000000      0.000000      0.000000      0.000000   \n",
       "50%        0.000000      0.000000      0.000000      0.000000      0.000000   \n",
       "75%        1.000000      0.000000      0.000000      0.000000      0.000000   \n",
       "max       30.000000     61.000000    130.000000     52.000000     19.000000   \n",
       "\n",
       "            feat_93  \n",
       "count  61878.000000  \n",
       "mean       0.126135  \n",
       "std        1.201720  \n",
       "min        0.000000  \n",
       "25%        0.000000  \n",
       "50%        0.000000  \n",
       "75%        0.000000  \n",
       "max       87.000000  \n",
       "\n",
       "[8 rows x 93 columns]"
      ]
     },
     "execution_count": 13,
     "metadata": {},
     "output_type": "execute_result"
    }
   ],
   "source": [
    "# Your code here\n",
    "data.describe()"
   ]
  },
  {
   "cell_type": "code",
   "execution_count": null,
   "metadata": {},
   "outputs": [],
   "source": [
    "# Your code here"
   ]
  },
  {
   "cell_type": "markdown",
   "metadata": {},
   "source": [
    "If you look at all the histograms, you can tell that a lot of the data are zero-inflated, so most of the variables contain mostly zeros and then some higher values here and there. No normality, but for most machine learning techniques this is not an issue. "
   ]
  },
  {
   "cell_type": "code",
   "execution_count": 19,
   "metadata": {},
   "outputs": [
    {
     "data": {
      "text/plain": [
       "<Figure size 864x864 with 0 Axes>"
      ]
     },
     "metadata": {},
     "output_type": "display_data"
    },
    {
     "data": {
      "image/png": "[encoded data removed]",
      "text/plain": [
       "<Figure size 864x864 with 100 Axes>"
      ]
     },
     "metadata": {
      "needs_background": "light"
     },
     "output_type": "display_data"
    }
   ],
   "source": [
    "# Your code here\n",
    "data.hist(figsize=(12,12));"
   ]
  },
  {
   "cell_type": "markdown",
   "metadata": {},
   "source": [
    "Because there are so many zeroes, most values above zero will seem to be outliers. The safe decision for this data is to not delete any outliers and see what happens. With many 0s, sparse data is available and high values may be super informative. Moreover, without having any intuitive meaning for each of the features, we don't know if a value of ~260 is actually an outlier."
   ]
  },
  {
   "cell_type": "code",
   "execution_count": 20,
   "metadata": {},
   "outputs": [],
   "source": [
    "# Your code here\n",
    "\n",
    "# ???"
   ]
  },
  {
   "cell_type": "markdown",
   "metadata": {},
   "source": [
    "## Feature engineering and selection with PCA"
   ]
  },
  {
   "cell_type": "markdown",
   "metadata": {},
   "source": [
    "Have a look at the correlation structure of your features using a [heatmap](https://seaborn.pydata.org/generated/seaborn.heatmap.html)."
   ]
  },
  {
   "cell_type": "code",
   "execution_count": 26,
   "metadata": {},
   "outputs": [
    {
     "data": {
      "text/plain": [
       "<AxesSubplot:>"
      ]
     },
     "execution_count": 26,
     "metadata": {},
     "output_type": "execute_result"
    },
    {
     "data": {
      "image/png": "[encoded data removed]",
      "text/plain": [
       "<Figure size 864x864 with 2 Axes>"
      ]
     },
     "metadata": {
      "needs_background": "light"
     },
     "output_type": "display_data"
    }
   ],
   "source": [
    "# Your code here\n",
    "import matplotlib.pyplot as plt\n",
    "%matplotlib inline\n",
    "import seaborn as sns\n",
    "\n",
    "plt.figure(figsize=(12,12))\n",
    "sns.heatmap(data.corr())"
   ]
  },
  {
   "cell_type": "markdown",
   "metadata": {},
   "source": [
    "Use PCA to select a number of features in a way that you still keep 80% of your explained variance."
   ]
  },
  {
   "cell_type": "code",
   "execution_count": 38,
   "metadata": {},
   "outputs": [
    {
     "name": "stdout",
     "output_type": "stream",
     "text": [
      "33 0.8455493054234607\n",
      "32 0.8388503619722998\n",
      "31 0.8314864053065232\n",
      "30 0.8244039705418542\n",
      "29 0.8166175698718676\n",
      "28 0.8087374081249392\n",
      "27 0.8004223117418355\n",
      "26 0.7918887966795966\n",
      "By reducing the data to 26 features we maintain 79.18887966795965%\n",
      "      of the variance in the original data\n"
     ]
    }
   ],
   "source": [
    "# Your code here\n",
    "from sklearn.decomposition import PCA\n",
    "\n",
    "X = data.drop('target', axis = 1)\n",
    "y = data['target']\n",
    "\n",
    "exp_var = 1\n",
    "feats = len(data.columns) - 60\n",
    "while exp_var >= 0.8:\n",
    "    feats -= 1\n",
    "    \n",
    "    # This could probably be done by reducing one feaeture at a time and tracking\n",
    "    # the explained variation but this seems safer for a first try.\n",
    "    pca = PCA(feats)\n",
    "    data_tx = pca.fit_transform(X)\n",
    "    exp_var = pca.explained_variance_ratio_.sum()\n",
    "    \n",
    "    print(feats, exp_var)\n",
    "    \n",
    "print(f'''By reducing the data to {feats} features we maintain {exp_var * 100}%\n",
    "      of the variance in the original data''')\n"
   ]
  },
  {
   "cell_type": "code",
   "execution_count": 39,
   "metadata": {},
   "outputs": [
    {
     "data": {
      "text/plain": [
       "array([[ 0.68354855, -1.45651728,  1.41204932, ..., -0.88100064,\n",
       "         0.02440001,  1.20228352],\n",
       "       [-2.64599058, -1.89325946, -0.27679429, ...,  0.03596413,\n",
       "        -0.40098574, -0.14598765],\n",
       "       [-1.88129958, -3.11142656,  0.16721323, ...,  1.25657961,\n",
       "         0.63132162,  0.51735704],\n",
       "       ...,\n",
       "       [ 4.24145427, -7.46688612,  6.8094224 , ..., -2.14407561,\n",
       "        -4.88473099, -4.96159   ],\n",
       "       [-0.34704526, -2.21288979,  1.38930305, ...,  0.97761817,\n",
       "        -0.21718179,  1.69285484],\n",
       "       [ 1.50227597, -0.6817428 ,  3.4948581 , ...,  0.50160018,\n",
       "         1.12318774, -0.18256564]])"
      ]
     },
     "execution_count": 39,
     "metadata": {},
     "output_type": "execute_result"
    }
   ],
   "source": [
    "# Your code here\n",
    "data_tx"
   ]
  },
  {
   "cell_type": "markdown",
   "metadata": {},
   "source": [
    "## Create a train-test split with a test size of 40%\n",
    "\n",
    "This is a relatively big training set, so you can assign 40% to the test set. Set the `random_state` to 42. "
   ]
  },
  {
   "cell_type": "code",
   "execution_count": 47,
   "metadata": {},
   "outputs": [],
   "source": [
    "# Your code here\n",
    "from sklearn.model_selection import train_test_split\n",
    "X_train, X_test, y_train, y_test = train_test_split(X, y, \n",
    "                                                    test_size=.4, \n",
    "                                                    random_state=42)"
   ]
  },
  {
   "cell_type": "code",
   "execution_count": null,
   "metadata": {},
   "outputs": [],
   "source": [
    "# Your code here"
   ]
  },
  {
   "cell_type": "markdown",
   "metadata": {},
   "source": [
    "## Create a baseline model"
   ]
  },
  {
   "cell_type": "markdown",
   "metadata": {},
   "source": [
    "Create your baseline model *in a pipeline setting*. In the pipeline: \n",
    "\n",
    "- Your first step will be to scale your features down to the number of features that ensure you keep just 80% of your explained variance (which we saw before)\n",
    "- Your second step will be to build a basic logistic regression model \n",
    "\n",
    "Make sure to fit the model using the training set and test the result by obtaining the accuracy using the test set. Set the `random_state` to 123. "
   ]
  },
  {
   "cell_type": "code",
   "execution_count": 55,
   "metadata": {},
   "outputs": [],
   "source": [
    "# Your code here\n",
    "from sklearn.pipeline import Pipeline\n",
    "from sklearn.linear_model import LogisticRegression\n",
    "from sklearn.metrics import accuracy_score"
   ]
  },
  {
   "cell_type": "code",
   "execution_count": 52,
   "metadata": {},
   "outputs": [],
   "source": [
    "# Your code here\n",
    "pipe = Pipeline(steps = [\n",
    "            ('pca', PCA(27, random_state=123)),\n",
    "            ('clf', LogisticRegression(C=1e100000, random_state=123))\n",
    "])"
   ]
  },
  {
   "cell_type": "code",
   "execution_count": 56,
   "metadata": {},
   "outputs": [
    {
     "name": "stderr",
     "output_type": "stream",
     "text": [
      "/srv/conda/envs/notebook/lib/python3.8/site-packages/sklearn/linear_model/_logistic.py:762: ConvergenceWarning: lbfgs failed to converge (status=1):\n",
      "STOP: TOTAL NO. of ITERATIONS REACHED LIMIT.\n",
      "\n",
      "Increase the number of iterations (max_iter) or scale the data as shown in:\n",
      "    https://scikit-learn.org/stable/modules/preprocessing.html\n",
      "Please also refer to the documentation for alternative solver options:\n",
      "    https://scikit-learn.org/stable/modules/linear_model.html#logistic-regression\n",
      "  n_iter_i = _check_optimize_result(\n"
     ]
    },
    {
     "data": {
      "text/plain": [
       "0.7273351648351648"
      ]
     },
     "execution_count": 56,
     "metadata": {},
     "output_type": "execute_result"
    }
   ],
   "source": [
    "# Your code here\n",
    "pipe.fit(X_train, y_train)\n",
    "accuracy_score(y_test, pipe.predict(X_test))\n"
   ]
  },
  {
   "cell_type": "markdown",
   "metadata": {},
   "source": [
    "## Create a pipeline consisting of a linear SVM, a simple decision tree, and a simple random forest classifier"
   ]
  },
  {
   "cell_type": "markdown",
   "metadata": {},
   "source": [
    "Repeat the above, but now create three different pipelines:\n",
    "- One for a standard linear SVM\n",
    "- One for a default decision tree\n",
    "- One for a random forest classifier"
   ]
  },
  {
   "cell_type": "code",
   "execution_count": 61,
   "metadata": {},
   "outputs": [],
   "source": [
    "from sklearn.svm import SVC\n",
    "from sklearn.tree import DecisionTreeClassifier\n",
    "from sklearn.ensemble import RandomForestClassifier"
   ]
  },
  {
   "cell_type": "code",
   "execution_count": 62,
   "metadata": {},
   "outputs": [
    {
     "name": "stdout",
     "output_type": "stream",
     "text": [
      "SVM Accuracy:  0.7536360698125404\n",
      "SVM Accuracy:  0.671178086619263\n",
      "SVM Accuracy:  0.7733516483516484\n"
     ]
    }
   ],
   "source": [
    "# Your code here\n",
    "# ⏰ This cell may take several minutes to run\n",
    "\n",
    "svm_pipe = Pipeline(steps = [\n",
    "            ('pca', PCA(27, random_state=123)),\n",
    "            ('clf', SVC(random_state=123))\n",
    "])\n",
    "svm_pipe.fit(X_train, y_train)\n",
    "print('SVM Accuracy: ',accuracy_score(y_test, svm_pipe.predict(X_test)))\n",
    "\n",
    "dt_pipe = Pipeline(steps = [\n",
    "            ('pca', PCA(27, random_state=123)),\n",
    "            ('clf', DecisionTreeClassifier(random_state=123))\n",
    "])\n",
    "dt_pipe.fit(X_train, y_train)\n",
    "print('Decision Tree Accuracy: ',accuracy_score(y_test, dt_pipe.predict(X_test)))\n",
    "\n",
    "rf_pipe = Pipeline(steps = [\n",
    "            ('pca', PCA(27, random_state=123)),\n",
    "            ('clf', RandomForestClassifier(random_state=123))\n",
    "])\n",
    "rf_pipe.fit(X_train, y_train)\n",
    "print('Random Forest Accuracy: ',accuracy_score(y_test, rf_pipe.predict(X_test)))\n"
   ]
  },
  {
   "cell_type": "markdown",
   "metadata": {},
   "source": [
    "## Pipeline with grid search"
   ]
  },
  {
   "cell_type": "markdown",
   "metadata": {},
   "source": [
    "Construct two pipelines with grid search:\n",
    "- one for random forests - try to have around 40 different models\n",
    "- one for the AdaBoost algorithm "
   ]
  },
  {
   "cell_type": "markdown",
   "metadata": {},
   "source": [
    "### Random Forest pipeline with grid search"
   ]
  },
  {
   "cell_type": "code",
   "execution_count": 64,
   "metadata": {},
   "outputs": [],
   "source": [
    "# Your code here \n",
    "# imports\n",
    "from sklearn.model_selection import GridSearchCV"
   ]
  },
  {
   "cell_type": "code",
   "execution_count": 70,
   "metadata": {},
   "outputs": [],
   "source": [
    "# Your code here\n",
    "# ⏰ This cell may take a long time to run!\n",
    "\n",
    "param_grid = {\n",
    "    'clf__n_estimators':[50, 75, 100],\n",
    "    'clf__criterion':['gini', 'entropy'],\n",
    "    'clf__max_depth':[10, 20, 30],\n",
    "    'clf__min_samples_leaf':[10,20]\n",
    "}\n",
    "\n",
    "gs = GridSearchCV(rf_pipe, param_grid=param_grid).fit(X_test, y_test)"
   ]
  },
  {
   "cell_type": "markdown",
   "metadata": {},
   "source": [
    "Use your grid search object along with `.cv_results` to get the full result overview"
   ]
  },
  {
   "cell_type": "code",
   "execution_count": 72,
   "metadata": {},
   "outputs": [
    {
     "data": {
      "text/plain": [
       "{'mean_fit_time': array([ 3.74751949,  5.34773169,  7.10748453,  3.65103703,  5.54053879,\n",
       "         6.93892975,  4.49497309,  6.62777352,  8.67506652,  4.14862952,\n",
       "         6.06697888,  8.08486152,  4.65629945,  6.66283536,  8.65808353,\n",
       "         4.11128149,  6.25593991,  8.10216508, 12.89829564, 19.32127552,\n",
       "        25.51495829, 12.39749241, 18.50168352, 24.6745368 , 14.65684142,\n",
       "        21.74702644, 28.58210797, 13.47786946, 22.13498397, 26.39749413,\n",
       "        14.4411819 , 21.48558555, 28.61153755, 13.35785918, 19.86553726,\n",
       "        26.35230436]),\n",
       " 'std_fit_time': array([0.03223905, 0.05370684, 0.10720499, 0.15036312, 0.31952416,\n",
       "        0.05784259, 0.12193895, 0.10769237, 0.06240989, 0.01668282,\n",
       "        0.02077269, 0.14809821, 0.16744014, 0.09608921, 0.08029744,\n",
       "        0.04923521, 0.33893187, 0.25073126, 0.04569089, 0.22416139,\n",
       "        0.16716824, 0.13221865, 0.12806171, 0.20865586, 0.35791003,\n",
       "        0.32261588, 0.18202841, 0.25046131, 3.01732747, 0.21433064,\n",
       "        0.1571946 , 0.12563606, 0.19512045, 0.10090568, 0.10677328,\n",
       "        0.18409722]),\n",
       " 'mean_score_time': array([0.07346697, 0.11384735, 0.1229713 , 0.07223959, 0.09763041,\n",
       "        0.11987734, 0.08465209, 0.11530848, 0.13848243, 0.08338027,\n",
       "        0.11165566, 0.14214768, 0.0908834 , 0.11603541, 0.13705893,\n",
       "        0.07884231, 0.11035862, 0.1325295 , 0.07460928, 0.10208302,\n",
       "        0.12997985, 0.072716  , 0.09934387, 0.12318354, 0.08358507,\n",
       "        0.11514225, 0.13921299, 0.10436387, 0.10922489, 0.13036966,\n",
       "        0.08645344, 0.11462345, 0.13855071, 0.07799406, 0.10945339,\n",
       "        0.12902737]),\n",
       " 'std_score_time': array([0.00391557, 0.02413848, 0.00303304, 0.00193165, 0.00262792,\n",
       "        0.00242267, 0.00089251, 0.00192745, 0.00252834, 0.00549946,\n",
       "        0.00164979, 0.01614853, 0.00289923, 0.00167953, 0.00137637,\n",
       "        0.00047935, 0.00032057, 0.00231576, 0.00747971, 0.00194157,\n",
       "        0.01394705, 0.0031625 , 0.00045112, 0.00369631, 0.00155409,\n",
       "        0.00218874, 0.00462149, 0.04996784, 0.00459266, 0.00249925,\n",
       "        0.00288929, 0.00131766, 0.00311304, 0.0001861 , 0.00022852,\n",
       "        0.00046358]),\n",
       " 'param_clf__criterion': masked_array(data=['gini', 'gini', 'gini', 'gini', 'gini', 'gini', 'gini',\n",
       "                    'gini', 'gini', 'gini', 'gini', 'gini', 'gini', 'gini',\n",
       "                    'gini', 'gini', 'gini', 'gini', 'entropy', 'entropy',\n",
       "                    'entropy', 'entropy', 'entropy', 'entropy', 'entropy',\n",
       "                    'entropy', 'entropy', 'entropy', 'entropy', 'entropy',\n",
       "                    'entropy', 'entropy', 'entropy', 'entropy', 'entropy',\n",
       "                    'entropy'],\n",
       "              mask=[False, False, False, False, False, False, False, False,\n",
       "                    False, False, False, False, False, False, False, False,\n",
       "                    False, False, False, False, False, False, False, False,\n",
       "                    False, False, False, False, False, False, False, False,\n",
       "                    False, False, False, False],\n",
       "        fill_value='?',\n",
       "             dtype=object),\n",
       " 'param_clf__max_depth': masked_array(data=[10, 10, 10, 10, 10, 10, 20, 20, 20, 20, 20, 20, 30, 30,\n",
       "                    30, 30, 30, 30, 10, 10, 10, 10, 10, 10, 20, 20, 20, 20,\n",
       "                    20, 20, 30, 30, 30, 30, 30, 30],\n",
       "              mask=[False, False, False, False, False, False, False, False,\n",
       "                    False, False, False, False, False, False, False, False,\n",
       "                    False, False, False, False, False, False, False, False,\n",
       "                    False, False, False, False, False, False, False, False,\n",
       "                    False, False, False, False],\n",
       "        fill_value='?',\n",
       "             dtype=object),\n",
       " 'param_clf__min_samples_leaf': masked_array(data=[10, 10, 10, 20, 20, 20, 10, 10, 10, 20, 20, 20, 10, 10,\n",
       "                    10, 20, 20, 20, 10, 10, 10, 20, 20, 20, 10, 10, 10, 20,\n",
       "                    20, 20, 10, 10, 10, 20, 20, 20],\n",
       "              mask=[False, False, False, False, False, False, False, False,\n",
       "                    False, False, False, False, False, False, False, False,\n",
       "                    False, False, False, False, False, False, False, False,\n",
       "                    False, False, False, False, False, False, False, False,\n",
       "                    False, False, False, False],\n",
       "        fill_value='?',\n",
       "             dtype=object),\n",
       " 'param_clf__n_estimators': masked_array(data=[50, 75, 100, 50, 75, 100, 50, 75, 100, 50, 75, 100, 50,\n",
       "                    75, 100, 50, 75, 100, 50, 75, 100, 50, 75, 100, 50, 75,\n",
       "                    100, 50, 75, 100, 50, 75, 100, 50, 75, 100],\n",
       "              mask=[False, False, False, False, False, False, False, False,\n",
       "                    False, False, False, False, False, False, False, False,\n",
       "                    False, False, False, False, False, False, False, False,\n",
       "                    False, False, False, False, False, False, False, False,\n",
       "                    False, False, False, False],\n",
       "        fill_value='?',\n",
       "             dtype=object),\n",
       " 'params': [{'clf__criterion': 'gini',\n",
       "   'clf__max_depth': 10,\n",
       "   'clf__min_samples_leaf': 10,\n",
       "   'clf__n_estimators': 50},\n",
       "  {'clf__criterion': 'gini',\n",
       "   'clf__max_depth': 10,\n",
       "   'clf__min_samples_leaf': 10,\n",
       "   'clf__n_estimators': 75},\n",
       "  {'clf__criterion': 'gini',\n",
       "   'clf__max_depth': 10,\n",
       "   'clf__min_samples_leaf': 10,\n",
       "   'clf__n_estimators': 100},\n",
       "  {'clf__criterion': 'gini',\n",
       "   'clf__max_depth': 10,\n",
       "   'clf__min_samples_leaf': 20,\n",
       "   'clf__n_estimators': 50},\n",
       "  {'clf__criterion': 'gini',\n",
       "   'clf__max_depth': 10,\n",
       "   'clf__min_samples_leaf': 20,\n",
       "   'clf__n_estimators': 75},\n",
       "  {'clf__criterion': 'gini',\n",
       "   'clf__max_depth': 10,\n",
       "   'clf__min_samples_leaf': 20,\n",
       "   'clf__n_estimators': 100},\n",
       "  {'clf__criterion': 'gini',\n",
       "   'clf__max_depth': 20,\n",
       "   'clf__min_samples_leaf': 10,\n",
       "   'clf__n_estimators': 50},\n",
       "  {'clf__criterion': 'gini',\n",
       "   'clf__max_depth': 20,\n",
       "   'clf__min_samples_leaf': 10,\n",
       "   'clf__n_estimators': 75},\n",
       "  {'clf__criterion': 'gini',\n",
       "   'clf__max_depth': 20,\n",
       "   'clf__min_samples_leaf': 10,\n",
       "   'clf__n_estimators': 100},\n",
       "  {'clf__criterion': 'gini',\n",
       "   'clf__max_depth': 20,\n",
       "   'clf__min_samples_leaf': 20,\n",
       "   'clf__n_estimators': 50},\n",
       "  {'clf__criterion': 'gini',\n",
       "   'clf__max_depth': 20,\n",
       "   'clf__min_samples_leaf': 20,\n",
       "   'clf__n_estimators': 75},\n",
       "  {'clf__criterion': 'gini',\n",
       "   'clf__max_depth': 20,\n",
       "   'clf__min_samples_leaf': 20,\n",
       "   'clf__n_estimators': 100},\n",
       "  {'clf__criterion': 'gini',\n",
       "   'clf__max_depth': 30,\n",
       "   'clf__min_samples_leaf': 10,\n",
       "   'clf__n_estimators': 50},\n",
       "  {'clf__criterion': 'gini',\n",
       "   'clf__max_depth': 30,\n",
       "   'clf__min_samples_leaf': 10,\n",
       "   'clf__n_estimators': 75},\n",
       "  {'clf__criterion': 'gini',\n",
       "   'clf__max_depth': 30,\n",
       "   'clf__min_samples_leaf': 10,\n",
       "   'clf__n_estimators': 100},\n",
       "  {'clf__criterion': 'gini',\n",
       "   'clf__max_depth': 30,\n",
       "   'clf__min_samples_leaf': 20,\n",
       "   'clf__n_estimators': 50},\n",
       "  {'clf__criterion': 'gini',\n",
       "   'clf__max_depth': 30,\n",
       "   'clf__min_samples_leaf': 20,\n",
       "   'clf__n_estimators': 75},\n",
       "  {'clf__criterion': 'gini',\n",
       "   'clf__max_depth': 30,\n",
       "   'clf__min_samples_leaf': 20,\n",
       "   'clf__n_estimators': 100},\n",
       "  {'clf__criterion': 'entropy',\n",
       "   'clf__max_depth': 10,\n",
       "   'clf__min_samples_leaf': 10,\n",
       "   'clf__n_estimators': 50},\n",
       "  {'clf__criterion': 'entropy',\n",
       "   'clf__max_depth': 10,\n",
       "   'clf__min_samples_leaf': 10,\n",
       "   'clf__n_estimators': 75},\n",
       "  {'clf__criterion': 'entropy',\n",
       "   'clf__max_depth': 10,\n",
       "   'clf__min_samples_leaf': 10,\n",
       "   'clf__n_estimators': 100},\n",
       "  {'clf__criterion': 'entropy',\n",
       "   'clf__max_depth': 10,\n",
       "   'clf__min_samples_leaf': 20,\n",
       "   'clf__n_estimators': 50},\n",
       "  {'clf__criterion': 'entropy',\n",
       "   'clf__max_depth': 10,\n",
       "   'clf__min_samples_leaf': 20,\n",
       "   'clf__n_estimators': 75},\n",
       "  {'clf__criterion': 'entropy',\n",
       "   'clf__max_depth': 10,\n",
       "   'clf__min_samples_leaf': 20,\n",
       "   'clf__n_estimators': 100},\n",
       "  {'clf__criterion': 'entropy',\n",
       "   'clf__max_depth': 20,\n",
       "   'clf__min_samples_leaf': 10,\n",
       "   'clf__n_estimators': 50},\n",
       "  {'clf__criterion': 'entropy',\n",
       "   'clf__max_depth': 20,\n",
       "   'clf__min_samples_leaf': 10,\n",
       "   'clf__n_estimators': 75},\n",
       "  {'clf__criterion': 'entropy',\n",
       "   'clf__max_depth': 20,\n",
       "   'clf__min_samples_leaf': 10,\n",
       "   'clf__n_estimators': 100},\n",
       "  {'clf__criterion': 'entropy',\n",
       "   'clf__max_depth': 20,\n",
       "   'clf__min_samples_leaf': 20,\n",
       "   'clf__n_estimators': 50},\n",
       "  {'clf__criterion': 'entropy',\n",
       "   'clf__max_depth': 20,\n",
       "   'clf__min_samples_leaf': 20,\n",
       "   'clf__n_estimators': 75},\n",
       "  {'clf__criterion': 'entropy',\n",
       "   'clf__max_depth': 20,\n",
       "   'clf__min_samples_leaf': 20,\n",
       "   'clf__n_estimators': 100},\n",
       "  {'clf__criterion': 'entropy',\n",
       "   'clf__max_depth': 30,\n",
       "   'clf__min_samples_leaf': 10,\n",
       "   'clf__n_estimators': 50},\n",
       "  {'clf__criterion': 'entropy',\n",
       "   'clf__max_depth': 30,\n",
       "   'clf__min_samples_leaf': 10,\n",
       "   'clf__n_estimators': 75},\n",
       "  {'clf__criterion': 'entropy',\n",
       "   'clf__max_depth': 30,\n",
       "   'clf__min_samples_leaf': 10,\n",
       "   'clf__n_estimators': 100},\n",
       "  {'clf__criterion': 'entropy',\n",
       "   'clf__max_depth': 30,\n",
       "   'clf__min_samples_leaf': 20,\n",
       "   'clf__n_estimators': 50},\n",
       "  {'clf__criterion': 'entropy',\n",
       "   'clf__max_depth': 30,\n",
       "   'clf__min_samples_leaf': 20,\n",
       "   'clf__n_estimators': 75},\n",
       "  {'clf__criterion': 'entropy',\n",
       "   'clf__max_depth': 30,\n",
       "   'clf__min_samples_leaf': 20,\n",
       "   'clf__n_estimators': 100}],\n",
       " 'split0_test_score': array([0.72510604, 0.72530802, 0.72793375, 0.72470208, 0.72369218,\n",
       "        0.7245001 , 0.73904262, 0.73783074, 0.74126439, 0.73318522,\n",
       "        0.73257928, 0.73197334, 0.74308221, 0.74227429, 0.74368814,\n",
       "        0.73197334, 0.73338719, 0.73257928, 0.72934761, 0.72975157,\n",
       "        0.73076146, 0.72651989, 0.72510604, 0.72510604, 0.74025449,\n",
       "        0.74065845, 0.74267825, 0.73257928, 0.73156938, 0.73197334,\n",
       "        0.74348616, 0.74207231, 0.7440921 , 0.73217532, 0.73116542,\n",
       "        0.73278126]),\n",
       " 'split1_test_score': array([0.72833771, 0.72975157, 0.72954959, 0.72046051, 0.72046051,\n",
       "        0.7234902 , 0.74368814, 0.74550596, 0.74570794, 0.72914563,\n",
       "        0.73439709, 0.73459907, 0.745102  , 0.74328419, 0.74671783,\n",
       "        0.73116542, 0.73278126, 0.73379115, 0.72894365, 0.72954959,\n",
       "        0.73156938, 0.72288427, 0.72752979, 0.72530802, 0.73985054,\n",
       "        0.74005251, 0.74267825, 0.73419511, 0.73560897, 0.73682084,\n",
       "        0.74288023, 0.74449606, 0.74570794, 0.73177136, 0.73641689,\n",
       "        0.73520501]),\n",
       " 'split2_test_score': array([0.72484848, 0.72686869, 0.72626263, 0.71939394, 0.71939394,\n",
       "        0.71979798, 0.7440404 , 0.74626263, 0.74444444, 0.73474747,\n",
       "        0.73555556, 0.73676768, 0.74080808, 0.74161616, 0.74141414,\n",
       "        0.73494949, 0.73757576, 0.73434343, 0.73151515, 0.73090909,\n",
       "        0.73090909, 0.72484848, 0.72484848, 0.72646465, 0.74585859,\n",
       "        0.74626263, 0.74808081, 0.73252525, 0.73373737, 0.73232323,\n",
       "        0.74383838, 0.74808081, 0.74585859, 0.73232323, 0.73414141,\n",
       "        0.73292929]),\n",
       " 'split3_test_score': array([0.71676768, 0.71757576, 0.71838384, 0.71171717, 0.71515152,\n",
       "        0.71616162, 0.74484848, 0.74606061, 0.74808081, 0.72747475,\n",
       "        0.73010101, 0.73151515, 0.74343434, 0.74383838, 0.74444444,\n",
       "        0.72949495, 0.72969697, 0.73252525, 0.72505051, 0.72383838,\n",
       "        0.72222222, 0.71737374, 0.71818182, 0.72020202, 0.74363636,\n",
       "        0.74383838, 0.74383838, 0.73050505, 0.73232323, 0.73131313,\n",
       "        0.74363636, 0.74525253, 0.74464646, 0.72909091, 0.73050505,\n",
       "        0.73030303]),\n",
       " 'split4_test_score': array([0.72323232, 0.72282828, 0.72323232, 0.71959596, 0.72121212,\n",
       "        0.72040404, 0.74      , 0.74141414, 0.74080808, 0.72808081,\n",
       "        0.72747475, 0.72686869, 0.73656566, 0.7379798 , 0.73717172,\n",
       "        0.72707071, 0.72767677, 0.72707071, 0.72585859, 0.72666667,\n",
       "        0.72606061, 0.72262626, 0.72444444, 0.72525253, 0.73777778,\n",
       "        0.73878788, 0.7410101 , 0.72929293, 0.72848485, 0.72949495,\n",
       "        0.74121212, 0.73939394, 0.7420202 , 0.73111111, 0.73010101,\n",
       "        0.72989899]),\n",
       " 'mean_test_score': array([0.72365845, 0.72446646, 0.72507242, 0.71917393, 0.71998205,\n",
       "        0.72087079, 0.74232393, 0.74341481, 0.74406113, 0.73052677,\n",
       "        0.73202154, 0.73234478, 0.74179846, 0.74179856, 0.74268726,\n",
       "        0.73093078, 0.73222359, 0.73206196, 0.7281431 , 0.72814306,\n",
       "        0.72830455, 0.72285053, 0.72402212, 0.72446665, 0.74147555,\n",
       "        0.74191997, 0.74365716, 0.73181952, 0.73234476, 0.7323851 ,\n",
       "        0.74301065, 0.74385913, 0.74446506, 0.73129439, 0.73246596,\n",
       "        0.73222352]),\n",
       " 'std_test_score': array([0.00382287, 0.00411283, 0.0039439 , 0.00419632, 0.00279954,\n",
       "        0.00295223, 0.00233873, 0.00330659, 0.00273572, 0.00290127,\n",
       "        0.00292593, 0.0033304 , 0.00295298, 0.00205964, 0.00323657,\n",
       "        0.0026174 , 0.00338727, 0.00259191, 0.00237679, 0.00256618,\n",
       "        0.00361965, 0.0030823 , 0.00311284, 0.00218693, 0.0028874 ,\n",
       "        0.00273597, 0.00238851, 0.00172222, 0.00237044, 0.00242286,\n",
       "        0.00095441, 0.0029428 , 0.00138824, 0.00117906, 0.00243091,\n",
       "        0.00193857]),\n",
       " 'rank_test_score': array([32, 30, 28, 36, 35, 34,  8,  5,  2, 24, 20, 15, 11, 10,  7, 23, 17,\n",
       "        19, 26, 27, 25, 33, 31, 29, 12,  9,  4, 21, 16, 14,  6,  3,  1, 22,\n",
       "        13, 18], dtype=int32)}"
      ]
     },
     "execution_count": 72,
     "metadata": {},
     "output_type": "execute_result"
    }
   ],
   "source": [
    "# Your code here \n",
    "gs.cv_results_"
   ]
  },
  {
   "cell_type": "code",
   "execution_count": 74,
   "metadata": {},
   "outputs": [
    {
     "data": {
      "text/plain": [
       "(0.7444650585842265,\n",
       " {'clf__criterion': 'entropy',\n",
       "  'clf__max_depth': 30,\n",
       "  'clf__min_samples_leaf': 10,\n",
       "  'clf__n_estimators': 100})"
      ]
     },
     "execution_count": 74,
     "metadata": {},
     "output_type": "execute_result"
    }
   ],
   "source": [
    "gs.best_score_, gs.best_params_"
   ]
  },
  {
   "cell_type": "markdown",
   "metadata": {},
   "source": [
    "### AdaBoost"
   ]
  },
  {
   "cell_type": "code",
   "execution_count": 75,
   "metadata": {},
   "outputs": [],
   "source": [
    "from sklearn.ensemble import AdaBoostClassifier"
   ]
  },
  {
   "cell_type": "code",
   "execution_count": 80,
   "metadata": {},
   "outputs": [
    {
     "data": {
      "text/plain": [
       "GridSearchCV(estimator=Pipeline(steps=[('pca',\n",
       "                                        PCA(n_components=27, random_state=123)),\n",
       "                                       ('clf',\n",
       "                                        RandomForestClassifier(random_state=123))]),\n",
       "             param_grid={'clf__criterion': ['gini', 'entropy'],\n",
       "                         'clf__max_depth': [10, 20, 30],\n",
       "                         'clf__min_samples_leaf': [10, 20],\n",
       "                         'clf__n_estimators': [50, 75, 100]})"
      ]
     },
     "execution_count": 80,
     "metadata": {},
     "output_type": "execute_result"
    }
   ],
   "source": [
    "# Your code here\n",
    "# ⏰ This cell may take several minutes to run\n",
    "\n",
    "ada_pipe = Pipeline(steps = [\n",
    "            ('pca', PCA(27, random_state=123)),\n",
    "            ('clf', RandomForestClassifier(random_state=123))\n",
    "])\n",
    "\n",
    "param_Grid = {\n",
    "    'n_estimators':[25, 50],\n",
    "    'learning_rate':[0.1, 0.5, 1.0],\n",
    "    'algorithm':['SAMME.R','SAME'],\n",
    "    'random_state':42\n",
    "}\n",
    "\n",
    "gs = GridSearchCV(ada_pipe, param_grid)\n",
    "gs.fit(X, y)"
   ]
  },
  {
   "cell_type": "markdown",
   "metadata": {},
   "source": [
    "Use your grid search object along with `.cv_results` to get the full result overview: "
   ]
  },
  {
   "cell_type": "code",
   "execution_count": 81,
   "metadata": {},
   "outputs": [
    {
     "data": {
      "text/plain": [
       "(0.760092516633693,\n",
       " {'clf__criterion': 'gini',\n",
       "  'clf__max_depth': 30,\n",
       "  'clf__min_samples_leaf': 10,\n",
       "  'clf__n_estimators': 100})"
      ]
     },
     "execution_count": 81,
     "metadata": {},
     "output_type": "execute_result"
    }
   ],
   "source": [
    "# Your code here \n",
    "gs.best_score_, gs.best_params_"
   ]
  },
  {
   "cell_type": "markdown",
   "metadata": {},
   "source": [
    "### Level-up (Optional): SVM pipeline with grid search \n",
    "\n",
    "As extra level-up work, construct a pipeline with grid search for support vector machines. \n",
    "* Make sure your grid isn't too big. You'll see it takes quite a while to fit SVMs with non-linear kernel functions!"
   ]
  },
  {
   "cell_type": "code",
   "execution_count": null,
   "metadata": {},
   "outputs": [],
   "source": [
    "# Your code here\n",
    "# ⏰ This cell may take a very long time to run!"
   ]
  },
  {
   "cell_type": "markdown",
   "metadata": {},
   "source": [
    "Use your grid search object along with `.cv_results` to get the full result overview: "
   ]
  },
  {
   "cell_type": "code",
   "execution_count": null,
   "metadata": {},
   "outputs": [],
   "source": [
    "# Your code here "
   ]
  },
  {
   "cell_type": "markdown",
   "metadata": {},
   "source": [
    "## Note\n",
    "\n",
    "Note that this solution is only one of many options. The results in the Random Forest and AdaBoost models show that there is a lot of improvement possible by tuning the hyperparameters further, so make sure to explore this yourself!"
   ]
  },
  {
   "cell_type": "markdown",
   "metadata": {},
   "source": [
    "## Summary \n",
    "\n",
    "Great! You've gotten a lot of practice in using PCA in pipelines. What algorithm would you choose and why?"
   ]
  }
 ],
 "metadata": {
  "kernelspec": {
   "display_name": "Python 3",
   "language": "python",
   "name": "python3"
  },
  "language_info": {
   "codemirror_mode": {
    "name": "ipython",
    "version": 3
   },
   "file_extension": ".py",
   "mimetype": "text/x-python",
   "name": "python",
   "nbconvert_exporter": "python",
   "pygments_lexer": "ipython3",
   "version": "3.8.5"
  },
  "toc": {
   "base_numbering": 1,
   "nav_menu": {},
   "number_sections": true,
   "sideBar": true,
   "skip_h1_title": false,
   "title_cell": "Table of Contents",
   "title_sidebar": "Contents",
   "toc_cell": false,
   "toc_position": {},
   "toc_section_display": true,
   "toc_window_display": false
  }
 },
 "nbformat": 4,
 "nbformat_minor": 2
}
